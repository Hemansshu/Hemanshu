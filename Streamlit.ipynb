{
 "cells": [
  {
   "cell_type": "code",
   "execution_count": 1,
   "id": "2dfda38a-f781-41d7-830b-f139dc11e6eb",
   "metadata": {},
   "outputs": [
    {
     "name": "stdout",
     "output_type": "stream",
     "text": [
      "Writing simple_app.py\n"
     ]
    }
   ],
   "source": [
    "%%writefile simple_app.py\n",
    "\n",
    "import streamlit as st\n",
    "import plotly.express as px\n",
    "import seaborn as sns\n",
    "import numpy as np\n",
    "\n",
    "tips = sns.load_dataset('tips')\n",
    "tips.head()\n",
    "\n",
    "\n",
    "fig1 = px.bar(tips, x=\"day\", y=\"tip\")\n",
    "\n",
    "fig2 = px.violin(tips, x=\"sex\", y=\"tip\")\n",
    "\n",
    "\n",
    "\n",
    "\n",
    "st.title(\"Data Visualization with Plotly\")\n",
    "\n",
    "st.header(\"Plot 1: Bar Plot - Tips by Day\")\n",
    "st.plotly_chart(fig1)\n",
    "st.markdown('''**Insight Observed**: (Add your insights here)''')\n",
    "\n",
    "\n",
    "\n",
    "\n",
    "st.header(\"Plot 2: Violin Plot - Tips by Gender\")\n",
    "st.plotly_chart(fig2)\n",
    "st.markdown('''**Insight Observed**: (Add your insights here)''')\n",
    "\n",
    "\n",
    "\n"
   ]
  },
  {
   "cell_type": "code",
   "execution_count": null,
   "id": "73b9b41a-abf8-46df-b116-349f3d76a95d",
   "metadata": {},
   "outputs": [],
   "source": [
    "!streamlit run simple_app.py \n"
   ]
  },
  {
   "cell_type": "code",
   "execution_count": null,
   "id": "bd016f6c-1e6f-402e-b393-16c6c29a5a9f",
   "metadata": {},
   "outputs": [],
   "source": []
  }
 ],
 "metadata": {
  "kernelspec": {
   "display_name": "Python 3 (ipykernel)",
   "language": "python",
   "name": "python3"
  },
  "language_info": {
   "codemirror_mode": {
    "name": "ipython",
    "version": 3
   },
   "file_extension": ".py",
   "mimetype": "text/x-python",
   "name": "python",
   "nbconvert_exporter": "python",
   "pygments_lexer": "ipython3",
   "version": "3.13.0"
  }
 },
 "nbformat": 4,
 "nbformat_minor": 5
}
